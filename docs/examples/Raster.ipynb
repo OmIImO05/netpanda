{
 "cells": [
  {
   "cell_type": "markdown",
   "metadata": {},
   "source": [
    "[![image](https://colab.research.google.com/assets/colab-badge.svg)](https://colab.research.google.com/github/OmiimO05/netpanda/blob/main/docs/examples/Raster.ipynb)"
   ]
  },
  {
   "cell_type": "code",
   "execution_count": 1,
   "metadata": {},
   "outputs": [
    {
     "name": "stdout",
     "output_type": "stream",
     "text": [
      "Requirement already satisfied: netpanda in c:\\users\\shabiha\\anaconda3\\envs\\geo\\lib\\site-packages (0.0.6)\n",
      "Requirement already satisfied: numpy in c:\\users\\shabiha\\anaconda3\\envs\\geo\\lib\\site-packages (from netpanda) (1.23.4)\n",
      "Requirement already satisfied: ipyleaflet in c:\\users\\shabiha\\anaconda3\\envs\\geo\\lib\\site-packages (from netpanda) (0.18.2)\n",
      "Requirement already satisfied: pandas in c:\\users\\shabiha\\anaconda3\\envs\\geo\\lib\\site-packages (from netpanda) (2.2.0)\n",
      "Requirement already satisfied: pyshp in c:\\users\\shabiha\\anaconda3\\envs\\geo\\lib\\site-packages (from netpanda) (2.3.1)\n",
      "Requirement already satisfied: geopandas in c:\\users\\shabiha\\anaconda3\\envs\\geo\\lib\\site-packages (from netpanda) (0.14.2)\n",
      "Requirement already satisfied: localtileserver in c:\\users\\shabiha\\anaconda3\\envs\\geo\\lib\\site-packages (from netpanda) (0.7.2)\n",
      "Requirement already satisfied: pylance in c:\\users\\shabiha\\anaconda3\\envs\\geo\\lib\\site-packages (from netpanda) (0.10.10)\n",
      "Requirement already satisfied: fiona>=1.8.21 in c:\\users\\shabiha\\anaconda3\\envs\\geo\\lib\\site-packages (from geopandas->netpanda) (1.9.1)\n",
      "Requirement already satisfied: packaging in c:\\users\\shabiha\\anaconda3\\envs\\geo\\lib\\site-packages (from geopandas->netpanda) (23.2)\n",
      "Requirement already satisfied: pyproj>=3.3.0 in c:\\users\\shabiha\\anaconda3\\envs\\geo\\lib\\site-packages (from geopandas->netpanda) (3.5.0)\n",
      "Requirement already satisfied: shapely>=1.8.0 in c:\\users\\shabiha\\anaconda3\\envs\\geo\\lib\\site-packages (from geopandas->netpanda) (2.0.1)\n",
      "Requirement already satisfied: python-dateutil>=2.8.2 in c:\\users\\shabiha\\anaconda3\\envs\\geo\\lib\\site-packages (from pandas->netpanda) (2.8.2)\n",
      "Requirement already satisfied: pytz>=2020.1 in c:\\users\\shabiha\\anaconda3\\envs\\geo\\lib\\site-packages (from pandas->netpanda) (2023.3.post1)\n",
      "Requirement already satisfied: tzdata>=2022.7 in c:\\users\\shabiha\\anaconda3\\envs\\geo\\lib\\site-packages (from pandas->netpanda) (2023.4)\n",
      "Requirement already satisfied: ipywidgets<9,>=7.6.0 in c:\\users\\shabiha\\anaconda3\\envs\\geo\\lib\\site-packages (from ipyleaflet->netpanda) (7.8.1)\n",
      "Requirement already satisfied: traittypes<3,>=0.2.1 in c:\\users\\shabiha\\anaconda3\\envs\\geo\\lib\\site-packages (from ipyleaflet->netpanda) (0.2.1)\n",
      "Requirement already satisfied: xyzservices>=2021.8.1 in c:\\users\\shabiha\\anaconda3\\envs\\geo\\lib\\site-packages (from ipyleaflet->netpanda) (2023.10.1)\n",
      "Requirement already satisfied: branca>=0.5.0 in c:\\users\\shabiha\\anaconda3\\envs\\geo\\lib\\site-packages (from ipyleaflet->netpanda) (0.7.0)\n",
      "Requirement already satisfied: click in c:\\users\\shabiha\\anaconda3\\envs\\geo\\lib\\site-packages (from localtileserver->netpanda) (8.1.7)\n",
      "Requirement already satisfied: flask<3,>=2.0.0 in c:\\users\\shabiha\\anaconda3\\envs\\geo\\lib\\site-packages (from localtileserver->netpanda) (2.3.3)\n",
      "Requirement already satisfied: Flask-Caching in c:\\users\\shabiha\\anaconda3\\envs\\geo\\lib\\site-packages (from localtileserver->netpanda) (2.1.0)\n",
      "Requirement already satisfied: flask-cors in c:\\users\\shabiha\\anaconda3\\envs\\geo\\lib\\site-packages (from localtileserver->netpanda) (4.0.0)\n",
      "Requirement already satisfied: flask-restx>=0.5.0 in c:\\users\\shabiha\\anaconda3\\envs\\geo\\lib\\site-packages (from localtileserver->netpanda) (1.3.0)\n",
      "Requirement already satisfied: large-image>=1.22.2 in c:\\users\\shabiha\\anaconda3\\envs\\geo\\lib\\site-packages (from large-image[rasterio]>=1.22.2->localtileserver->netpanda) (1.27.1)\n",
      "Requirement already satisfied: requests in c:\\users\\shabiha\\anaconda3\\envs\\geo\\lib\\site-packages (from localtileserver->netpanda) (2.31.0)\n",
      "Requirement already satisfied: server-thread in c:\\users\\shabiha\\anaconda3\\envs\\geo\\lib\\site-packages (from localtileserver->netpanda) (0.2.0)\n",
      "Requirement already satisfied: scooby in c:\\users\\shabiha\\anaconda3\\envs\\geo\\lib\\site-packages (from localtileserver->netpanda) (0.9.2)\n",
      "Requirement already satisfied: werkzeug in c:\\users\\shabiha\\anaconda3\\envs\\geo\\lib\\site-packages (from localtileserver->netpanda) (3.0.1)\n",
      "Requirement already satisfied: pyarrow<15.0.1,>=12 in c:\\users\\shabiha\\anaconda3\\envs\\geo\\lib\\site-packages (from pylance->netpanda) (15.0.0)\n",
      "Requirement already satisfied: jinja2 in c:\\users\\shabiha\\anaconda3\\envs\\geo\\lib\\site-packages (from branca>=0.5.0->ipyleaflet->netpanda) (3.1.3)\n",
      "Requirement already satisfied: attrs>=19.2.0 in c:\\users\\shabiha\\anaconda3\\envs\\geo\\lib\\site-packages (from fiona>=1.8.21->geopandas->netpanda) (23.2.0)\n",
      "Requirement already satisfied: certifi in c:\\users\\shabiha\\anaconda3\\envs\\geo\\lib\\site-packages (from fiona>=1.8.21->geopandas->netpanda) (2024.2.2)\n",
      "Requirement already satisfied: click-plugins>=1.0 in c:\\users\\shabiha\\anaconda3\\envs\\geo\\lib\\site-packages (from fiona>=1.8.21->geopandas->netpanda) (1.1.1)\n",
      "Requirement already satisfied: cligj>=0.5 in c:\\users\\shabiha\\anaconda3\\envs\\geo\\lib\\site-packages (from fiona>=1.8.21->geopandas->netpanda) (0.7.2)\n",
      "Requirement already satisfied: munch>=2.3.2 in c:\\users\\shabiha\\anaconda3\\envs\\geo\\lib\\site-packages (from fiona>=1.8.21->geopandas->netpanda) (4.0.0)\n",
      "Requirement already satisfied: setuptools in c:\\users\\shabiha\\anaconda3\\envs\\geo\\lib\\site-packages (from fiona>=1.8.21->geopandas->netpanda) (68.2.2)\n",
      "Requirement already satisfied: colorama in c:\\users\\shabiha\\anaconda3\\envs\\geo\\lib\\site-packages (from click->localtileserver->netpanda) (0.4.6)\n",
      "Requirement already satisfied: itsdangerous>=2.1.2 in c:\\users\\shabiha\\anaconda3\\envs\\geo\\lib\\site-packages (from flask<3,>=2.0.0->localtileserver->netpanda) (2.1.2)\n",
      "Requirement already satisfied: blinker>=1.6.2 in c:\\users\\shabiha\\anaconda3\\envs\\geo\\lib\\site-packages (from flask<3,>=2.0.0->localtileserver->netpanda) (1.7.0)\n",
      "Requirement already satisfied: aniso8601>=0.82 in c:\\users\\shabiha\\anaconda3\\envs\\geo\\lib\\site-packages (from flask-restx>=0.5.0->localtileserver->netpanda) (9.0.1)\n",
      "Requirement already satisfied: jsonschema in c:\\users\\shabiha\\anaconda3\\envs\\geo\\lib\\site-packages (from flask-restx>=0.5.0->localtileserver->netpanda) (4.21.1)\n",
      "Requirement already satisfied: importlib-resources in c:\\users\\shabiha\\anaconda3\\envs\\geo\\lib\\site-packages (from flask-restx>=0.5.0->localtileserver->netpanda) (6.1.1)\n",
      "Requirement already satisfied: comm>=0.1.3 in c:\\users\\shabiha\\anaconda3\\envs\\geo\\lib\\site-packages (from ipywidgets<9,>=7.6.0->ipyleaflet->netpanda) (0.2.1)\n",
      "Requirement already satisfied: ipython-genutils~=0.2.0 in c:\\users\\shabiha\\anaconda3\\envs\\geo\\lib\\site-packages (from ipywidgets<9,>=7.6.0->ipyleaflet->netpanda) (0.2.0)\n",
      "Requirement already satisfied: traitlets>=4.3.1 in c:\\users\\shabiha\\anaconda3\\envs\\geo\\lib\\site-packages (from ipywidgets<9,>=7.6.0->ipyleaflet->netpanda) (5.14.1)\n",
      "Requirement already satisfied: widgetsnbextension~=3.6.6 in c:\\users\\shabiha\\anaconda3\\envs\\geo\\lib\\site-packages (from ipywidgets<9,>=7.6.0->ipyleaflet->netpanda) (3.6.6)\n",
      "Requirement already satisfied: ipython>=4.0.0 in c:\\users\\shabiha\\anaconda3\\envs\\geo\\lib\\site-packages (from ipywidgets<9,>=7.6.0->ipyleaflet->netpanda) (8.20.0)\n",
      "Requirement already satisfied: jupyterlab-widgets<3,>=1.0.0 in c:\\users\\shabiha\\anaconda3\\envs\\geo\\lib\\site-packages (from ipywidgets<9,>=7.6.0->ipyleaflet->netpanda) (1.1.7)\n",
      "Requirement already satisfied: cachetools in c:\\users\\shabiha\\anaconda3\\envs\\geo\\lib\\site-packages (from large-image>=1.22.2->large-image[rasterio]>=1.22.2->localtileserver->netpanda) (5.3.2)\n",
      "Requirement already satisfied: palettable in c:\\users\\shabiha\\anaconda3\\envs\\geo\\lib\\site-packages (from large-image>=1.22.2->large-image[rasterio]>=1.22.2->localtileserver->netpanda) (3.3.3)\n",
      "Requirement already satisfied: Pillow in c:\\users\\shabiha\\anaconda3\\envs\\geo\\lib\\site-packages (from large-image>=1.22.2->large-image[rasterio]>=1.22.2->localtileserver->netpanda) (10.2.0)\n",
      "Requirement already satisfied: typing-extensions in c:\\users\\shabiha\\anaconda3\\envs\\geo\\lib\\site-packages (from large-image>=1.22.2->large-image[rasterio]>=1.22.2->localtileserver->netpanda) (4.9.0)\n",
      "Requirement already satisfied: large-image-source-rasterio>=1.27.1 in c:\\users\\shabiha\\anaconda3\\envs\\geo\\lib\\site-packages (from large-image[rasterio]>=1.22.2->localtileserver->netpanda) (1.27.1)\n",
      "Requirement already satisfied: six>=1.5 in c:\\users\\shabiha\\anaconda3\\envs\\geo\\lib\\site-packages (from python-dateutil>=2.8.2->pandas->netpanda) (1.16.0)\n",
      "Requirement already satisfied: MarkupSafe>=2.1.1 in c:\\users\\shabiha\\anaconda3\\envs\\geo\\lib\\site-packages (from werkzeug->localtileserver->netpanda) (2.1.4)\n",
      "Requirement already satisfied: cachelib<0.10.0,>=0.9.0 in c:\\users\\shabiha\\anaconda3\\envs\\geo\\lib\\site-packages (from Flask-Caching->localtileserver->netpanda) (0.9.0)\n",
      "Requirement already satisfied: charset-normalizer<4,>=2 in c:\\users\\shabiha\\anaconda3\\envs\\geo\\lib\\site-packages (from requests->localtileserver->netpanda) (3.3.2)\n",
      "Requirement already satisfied: idna<4,>=2.5 in c:\\users\\shabiha\\anaconda3\\envs\\geo\\lib\\site-packages (from requests->localtileserver->netpanda) (3.6)\n",
      "Requirement already satisfied: urllib3<3,>=1.21.1 in c:\\users\\shabiha\\anaconda3\\envs\\geo\\lib\\site-packages (from requests->localtileserver->netpanda) (2.0.7)\n",
      "Requirement already satisfied: uvicorn in c:\\users\\shabiha\\anaconda3\\envs\\geo\\lib\\site-packages (from server-thread->localtileserver->netpanda) (0.27.0)\n",
      "Requirement already satisfied: decorator in c:\\users\\shabiha\\anaconda3\\envs\\geo\\lib\\site-packages (from ipython>=4.0.0->ipywidgets<9,>=7.6.0->ipyleaflet->netpanda) (5.1.1)\n",
      "Requirement already satisfied: jedi>=0.16 in c:\\users\\shabiha\\anaconda3\\envs\\geo\\lib\\site-packages (from ipython>=4.0.0->ipywidgets<9,>=7.6.0->ipyleaflet->netpanda) (0.19.1)\n",
      "Requirement already satisfied: matplotlib-inline in c:\\users\\shabiha\\anaconda3\\envs\\geo\\lib\\site-packages (from ipython>=4.0.0->ipywidgets<9,>=7.6.0->ipyleaflet->netpanda) (0.1.6)\n",
      "Requirement already satisfied: prompt-toolkit<3.1.0,>=3.0.41 in c:\\users\\shabiha\\anaconda3\\envs\\geo\\lib\\site-packages (from ipython>=4.0.0->ipywidgets<9,>=7.6.0->ipyleaflet->netpanda) (3.0.43)\n",
      "Requirement already satisfied: pygments>=2.4.0 in c:\\users\\shabiha\\anaconda3\\envs\\geo\\lib\\site-packages (from ipython>=4.0.0->ipywidgets<9,>=7.6.0->ipyleaflet->netpanda) (2.17.2)\n",
      "Requirement already satisfied: stack-data in c:\\users\\shabiha\\anaconda3\\envs\\geo\\lib\\site-packages (from ipython>=4.0.0->ipywidgets<9,>=7.6.0->ipyleaflet->netpanda) (0.6.3)\n",
      "Requirement already satisfied: rasterio>=1.3 in c:\\users\\shabiha\\anaconda3\\envs\\geo\\lib\\site-packages (from large-image-source-rasterio>=1.27.1->large-image[rasterio]>=1.22.2->localtileserver->netpanda) (1.3.6)\n",
      "Requirement already satisfied: notebook>=4.4.1 in c:\\users\\shabiha\\anaconda3\\envs\\geo\\lib\\site-packages (from widgetsnbextension~=3.6.6->ipywidgets<9,>=7.6.0->ipyleaflet->netpanda) (7.0.7)\n",
      "Requirement already satisfied: jsonschema-specifications>=2023.03.6 in c:\\users\\shabiha\\anaconda3\\envs\\geo\\lib\\site-packages (from jsonschema->flask-restx>=0.5.0->localtileserver->netpanda) (2023.12.1)\n",
      "Requirement already satisfied: referencing>=0.28.4 in c:\\users\\shabiha\\anaconda3\\envs\\geo\\lib\\site-packages (from jsonschema->flask-restx>=0.5.0->localtileserver->netpanda) (0.32.1)\n",
      "Requirement already satisfied: rpds-py>=0.7.1 in c:\\users\\shabiha\\anaconda3\\envs\\geo\\lib\\site-packages (from jsonschema->flask-restx>=0.5.0->localtileserver->netpanda) (0.17.1)\n",
      "Requirement already satisfied: h11>=0.8 in c:\\users\\shabiha\\anaconda3\\envs\\geo\\lib\\site-packages (from uvicorn->server-thread->localtileserver->netpanda) (0.14.0)\n",
      "Requirement already satisfied: parso<0.9.0,>=0.8.3 in c:\\users\\shabiha\\anaconda3\\envs\\geo\\lib\\site-packages (from jedi>=0.16->ipython>=4.0.0->ipywidgets<9,>=7.6.0->ipyleaflet->netpanda) (0.8.3)\n",
      "Requirement already satisfied: jupyter-server<3,>=2.4.0 in c:\\users\\shabiha\\anaconda3\\envs\\geo\\lib\\site-packages (from notebook>=4.4.1->widgetsnbextension~=3.6.6->ipywidgets<9,>=7.6.0->ipyleaflet->netpanda) (2.12.5)\n",
      "Requirement already satisfied: jupyterlab-server<3,>=2.22.1 in c:\\users\\shabiha\\anaconda3\\envs\\geo\\lib\\site-packages (from notebook>=4.4.1->widgetsnbextension~=3.6.6->ipywidgets<9,>=7.6.0->ipyleaflet->netpanda) (2.25.2)\n",
      "Requirement already satisfied: jupyterlab<5,>=4.0.2 in c:\\users\\shabiha\\anaconda3\\envs\\geo\\lib\\site-packages (from notebook>=4.4.1->widgetsnbextension~=3.6.6->ipywidgets<9,>=7.6.0->ipyleaflet->netpanda) (4.0.11)\n",
      "Requirement already satisfied: notebook-shim<0.3,>=0.2 in c:\\users\\shabiha\\anaconda3\\envs\\geo\\lib\\site-packages (from notebook>=4.4.1->widgetsnbextension~=3.6.6->ipywidgets<9,>=7.6.0->ipyleaflet->netpanda) (0.2.3)\n",
      "Requirement already satisfied: tornado>=6.2.0 in c:\\users\\shabiha\\anaconda3\\envs\\geo\\lib\\site-packages (from notebook>=4.4.1->widgetsnbextension~=3.6.6->ipywidgets<9,>=7.6.0->ipyleaflet->netpanda) (6.4)\n",
      "Requirement already satisfied: wcwidth in c:\\users\\shabiha\\anaconda3\\envs\\geo\\lib\\site-packages (from prompt-toolkit<3.1.0,>=3.0.41->ipython>=4.0.0->ipywidgets<9,>=7.6.0->ipyleaflet->netpanda) (0.2.13)\n",
      "Requirement already satisfied: affine in c:\\users\\shabiha\\anaconda3\\envs\\geo\\lib\\site-packages (from rasterio>=1.3->large-image-source-rasterio>=1.27.1->large-image[rasterio]>=1.22.2->localtileserver->netpanda) (2.4.0)\n",
      "Requirement already satisfied: snuggs>=1.4.1 in c:\\users\\shabiha\\anaconda3\\envs\\geo\\lib\\site-packages (from rasterio>=1.3->large-image-source-rasterio>=1.27.1->large-image[rasterio]>=1.22.2->localtileserver->netpanda) (1.4.7)\n",
      "Requirement already satisfied: executing>=1.2.0 in c:\\users\\shabiha\\anaconda3\\envs\\geo\\lib\\site-packages (from stack-data->ipython>=4.0.0->ipywidgets<9,>=7.6.0->ipyleaflet->netpanda) (2.0.1)\n",
      "Requirement already satisfied: asttokens>=2.1.0 in c:\\users\\shabiha\\anaconda3\\envs\\geo\\lib\\site-packages (from stack-data->ipython>=4.0.0->ipywidgets<9,>=7.6.0->ipyleaflet->netpanda) (2.4.1)\n",
      "Requirement already satisfied: pure-eval in c:\\users\\shabiha\\anaconda3\\envs\\geo\\lib\\site-packages (from stack-data->ipython>=4.0.0->ipywidgets<9,>=7.6.0->ipyleaflet->netpanda) (0.2.2)\n",
      "Requirement already satisfied: anyio>=3.1.0 in c:\\users\\shabiha\\anaconda3\\envs\\geo\\lib\\site-packages (from jupyter-server<3,>=2.4.0->notebook>=4.4.1->widgetsnbextension~=3.6.6->ipywidgets<9,>=7.6.0->ipyleaflet->netpanda) (4.2.0)\n",
      "Requirement already satisfied: argon2-cffi in c:\\users\\shabiha\\anaconda3\\envs\\geo\\lib\\site-packages (from jupyter-server<3,>=2.4.0->notebook>=4.4.1->widgetsnbextension~=3.6.6->ipywidgets<9,>=7.6.0->ipyleaflet->netpanda) (23.1.0)\n",
      "Requirement already satisfied: jupyter-client>=7.4.4 in c:\\users\\shabiha\\anaconda3\\envs\\geo\\lib\\site-packages (from jupyter-server<3,>=2.4.0->notebook>=4.4.1->widgetsnbextension~=3.6.6->ipywidgets<9,>=7.6.0->ipyleaflet->netpanda) (8.6.0)\n",
      "Requirement already satisfied: jupyter-core!=5.0.*,>=4.12 in c:\\users\\shabiha\\anaconda3\\envs\\geo\\lib\\site-packages (from jupyter-server<3,>=2.4.0->notebook>=4.4.1->widgetsnbextension~=3.6.6->ipywidgets<9,>=7.6.0->ipyleaflet->netpanda) (5.7.1)\n",
      "Requirement already satisfied: jupyter-events>=0.9.0 in c:\\users\\shabiha\\anaconda3\\envs\\geo\\lib\\site-packages (from jupyter-server<3,>=2.4.0->notebook>=4.4.1->widgetsnbextension~=3.6.6->ipywidgets<9,>=7.6.0->ipyleaflet->netpanda) (0.9.0)\n",
      "Requirement already satisfied: jupyter-server-terminals in c:\\users\\shabiha\\anaconda3\\envs\\geo\\lib\\site-packages (from jupyter-server<3,>=2.4.0->notebook>=4.4.1->widgetsnbextension~=3.6.6->ipywidgets<9,>=7.6.0->ipyleaflet->netpanda) (0.5.2)\n",
      "Requirement already satisfied: nbconvert>=6.4.4 in c:\\users\\shabiha\\anaconda3\\envs\\geo\\lib\\site-packages (from jupyter-server<3,>=2.4.0->notebook>=4.4.1->widgetsnbextension~=3.6.6->ipywidgets<9,>=7.6.0->ipyleaflet->netpanda) (7.14.2)\n",
      "Requirement already satisfied: nbformat>=5.3.0 in c:\\users\\shabiha\\anaconda3\\envs\\geo\\lib\\site-packages (from jupyter-server<3,>=2.4.0->notebook>=4.4.1->widgetsnbextension~=3.6.6->ipywidgets<9,>=7.6.0->ipyleaflet->netpanda) (5.9.2)\n",
      "Requirement already satisfied: overrides in c:\\users\\shabiha\\anaconda3\\envs\\geo\\lib\\site-packages (from jupyter-server<3,>=2.4.0->notebook>=4.4.1->widgetsnbextension~=3.6.6->ipywidgets<9,>=7.6.0->ipyleaflet->netpanda) (7.6.0)\n",
      "Requirement already satisfied: prometheus-client in c:\\users\\shabiha\\anaconda3\\envs\\geo\\lib\\site-packages (from jupyter-server<3,>=2.4.0->notebook>=4.4.1->widgetsnbextension~=3.6.6->ipywidgets<9,>=7.6.0->ipyleaflet->netpanda) (0.19.0)\n",
      "Requirement already satisfied: pywinpty in c:\\users\\shabiha\\anaconda3\\envs\\geo\\lib\\site-packages (from jupyter-server<3,>=2.4.0->notebook>=4.4.1->widgetsnbextension~=3.6.6->ipywidgets<9,>=7.6.0->ipyleaflet->netpanda) (2.0.12)\n",
      "Requirement already satisfied: pyzmq>=24 in c:\\users\\shabiha\\anaconda3\\envs\\geo\\lib\\site-packages (from jupyter-server<3,>=2.4.0->notebook>=4.4.1->widgetsnbextension~=3.6.6->ipywidgets<9,>=7.6.0->ipyleaflet->netpanda) (25.1.2)\n",
      "Requirement already satisfied: send2trash>=1.8.2 in c:\\users\\shabiha\\anaconda3\\envs\\geo\\lib\\site-packages (from jupyter-server<3,>=2.4.0->notebook>=4.4.1->widgetsnbextension~=3.6.6->ipywidgets<9,>=7.6.0->ipyleaflet->netpanda) (1.8.2)\n",
      "Requirement already satisfied: terminado>=0.8.3 in c:\\users\\shabiha\\anaconda3\\envs\\geo\\lib\\site-packages (from jupyter-server<3,>=2.4.0->notebook>=4.4.1->widgetsnbextension~=3.6.6->ipywidgets<9,>=7.6.0->ipyleaflet->netpanda) (0.18.0)\n",
      "Requirement already satisfied: websocket-client in c:\\users\\shabiha\\anaconda3\\envs\\geo\\lib\\site-packages (from jupyter-server<3,>=2.4.0->notebook>=4.4.1->widgetsnbextension~=3.6.6->ipywidgets<9,>=7.6.0->ipyleaflet->netpanda) (1.7.0)\n",
      "Requirement already satisfied: async-lru>=1.0.0 in c:\\users\\shabiha\\anaconda3\\envs\\geo\\lib\\site-packages (from jupyterlab<5,>=4.0.2->notebook>=4.4.1->widgetsnbextension~=3.6.6->ipywidgets<9,>=7.6.0->ipyleaflet->netpanda) (2.0.4)\n",
      "Requirement already satisfied: ipykernel in c:\\users\\shabiha\\anaconda3\\envs\\geo\\lib\\site-packages (from jupyterlab<5,>=4.0.2->notebook>=4.4.1->widgetsnbextension~=3.6.6->ipywidgets<9,>=7.6.0->ipyleaflet->netpanda) (6.29.0)\n",
      "Requirement already satisfied: jupyter-lsp>=2.0.0 in c:\\users\\shabiha\\anaconda3\\envs\\geo\\lib\\site-packages (from jupyterlab<5,>=4.0.2->notebook>=4.4.1->widgetsnbextension~=3.6.6->ipywidgets<9,>=7.6.0->ipyleaflet->netpanda) (2.2.2)\n",
      "Requirement already satisfied: babel>=2.10 in c:\\users\\shabiha\\anaconda3\\envs\\geo\\lib\\site-packages (from jupyterlab-server<3,>=2.22.1->notebook>=4.4.1->widgetsnbextension~=3.6.6->ipywidgets<9,>=7.6.0->ipyleaflet->netpanda) (2.14.0)\n",
      "Requirement already satisfied: json5>=0.9.0 in c:\\users\\shabiha\\anaconda3\\envs\\geo\\lib\\site-packages (from jupyterlab-server<3,>=2.22.1->notebook>=4.4.1->widgetsnbextension~=3.6.6->ipywidgets<9,>=7.6.0->ipyleaflet->netpanda) (0.9.14)\n",
      "Requirement already satisfied: pyparsing>=2.1.6 in c:\\users\\shabiha\\anaconda3\\envs\\geo\\lib\\site-packages (from snuggs>=1.4.1->rasterio>=1.3->large-image-source-rasterio>=1.27.1->large-image[rasterio]>=1.22.2->localtileserver->netpanda) (3.1.1)\n",
      "Requirement already satisfied: sniffio>=1.1 in c:\\users\\shabiha\\anaconda3\\envs\\geo\\lib\\site-packages (from anyio>=3.1.0->jupyter-server<3,>=2.4.0->notebook>=4.4.1->widgetsnbextension~=3.6.6->ipywidgets<9,>=7.6.0->ipyleaflet->netpanda) (1.3.0)\n",
      "Requirement already satisfied: platformdirs>=2.5 in c:\\users\\shabiha\\anaconda3\\envs\\geo\\lib\\site-packages (from jupyter-core!=5.0.*,>=4.12->jupyter-server<3,>=2.4.0->notebook>=4.4.1->widgetsnbextension~=3.6.6->ipywidgets<9,>=7.6.0->ipyleaflet->netpanda) (4.1.0)\n",
      "Requirement already satisfied: pywin32>=300 in c:\\users\\shabiha\\anaconda3\\envs\\geo\\lib\\site-packages (from jupyter-core!=5.0.*,>=4.12->jupyter-server<3,>=2.4.0->notebook>=4.4.1->widgetsnbextension~=3.6.6->ipywidgets<9,>=7.6.0->ipyleaflet->netpanda) (306)\n",
      "Requirement already satisfied: python-json-logger>=2.0.4 in c:\\users\\shabiha\\anaconda3\\envs\\geo\\lib\\site-packages (from jupyter-events>=0.9.0->jupyter-server<3,>=2.4.0->notebook>=4.4.1->widgetsnbextension~=3.6.6->ipywidgets<9,>=7.6.0->ipyleaflet->netpanda) (2.0.7)\n",
      "Requirement already satisfied: pyyaml>=5.3 in c:\\users\\shabiha\\anaconda3\\envs\\geo\\lib\\site-packages (from jupyter-events>=0.9.0->jupyter-server<3,>=2.4.0->notebook>=4.4.1->widgetsnbextension~=3.6.6->ipywidgets<9,>=7.6.0->ipyleaflet->netpanda) (6.0.1)\n",
      "Requirement already satisfied: rfc3339-validator in c:\\users\\shabiha\\anaconda3\\envs\\geo\\lib\\site-packages (from jupyter-events>=0.9.0->jupyter-server<3,>=2.4.0->notebook>=4.4.1->widgetsnbextension~=3.6.6->ipywidgets<9,>=7.6.0->ipyleaflet->netpanda) (0.1.4)\n",
      "Requirement already satisfied: rfc3986-validator>=0.1.1 in c:\\users\\shabiha\\anaconda3\\envs\\geo\\lib\\site-packages (from jupyter-events>=0.9.0->jupyter-server<3,>=2.4.0->notebook>=4.4.1->widgetsnbextension~=3.6.6->ipywidgets<9,>=7.6.0->ipyleaflet->netpanda) (0.1.1)\n",
      "Requirement already satisfied: beautifulsoup4 in c:\\users\\shabiha\\anaconda3\\envs\\geo\\lib\\site-packages (from nbconvert>=6.4.4->jupyter-server<3,>=2.4.0->notebook>=4.4.1->widgetsnbextension~=3.6.6->ipywidgets<9,>=7.6.0->ipyleaflet->netpanda) (4.12.3)\n",
      "Requirement already satisfied: bleach!=5.0.0 in c:\\users\\shabiha\\anaconda3\\envs\\geo\\lib\\site-packages (from nbconvert>=6.4.4->jupyter-server<3,>=2.4.0->notebook>=4.4.1->widgetsnbextension~=3.6.6->ipywidgets<9,>=7.6.0->ipyleaflet->netpanda) (6.1.0)\n",
      "Requirement already satisfied: defusedxml in c:\\users\\shabiha\\anaconda3\\envs\\geo\\lib\\site-packages (from nbconvert>=6.4.4->jupyter-server<3,>=2.4.0->notebook>=4.4.1->widgetsnbextension~=3.6.6->ipywidgets<9,>=7.6.0->ipyleaflet->netpanda) (0.7.1)\n",
      "Requirement already satisfied: jupyterlab-pygments in c:\\users\\shabiha\\anaconda3\\envs\\geo\\lib\\site-packages (from nbconvert>=6.4.4->jupyter-server<3,>=2.4.0->notebook>=4.4.1->widgetsnbextension~=3.6.6->ipywidgets<9,>=7.6.0->ipyleaflet->netpanda) (0.3.0)\n",
      "Requirement already satisfied: mistune<4,>=2.0.3 in c:\\users\\shabiha\\anaconda3\\envs\\geo\\lib\\site-packages (from nbconvert>=6.4.4->jupyter-server<3,>=2.4.0->notebook>=4.4.1->widgetsnbextension~=3.6.6->ipywidgets<9,>=7.6.0->ipyleaflet->netpanda) (3.0.2)\n",
      "Requirement already satisfied: nbclient>=0.5.0 in c:\\users\\shabiha\\anaconda3\\envs\\geo\\lib\\site-packages (from nbconvert>=6.4.4->jupyter-server<3,>=2.4.0->notebook>=4.4.1->widgetsnbextension~=3.6.6->ipywidgets<9,>=7.6.0->ipyleaflet->netpanda) (0.9.0)\n",
      "Requirement already satisfied: pandocfilters>=1.4.1 in c:\\users\\shabiha\\anaconda3\\envs\\geo\\lib\\site-packages (from nbconvert>=6.4.4->jupyter-server<3,>=2.4.0->notebook>=4.4.1->widgetsnbextension~=3.6.6->ipywidgets<9,>=7.6.0->ipyleaflet->netpanda) (1.5.1)\n",
      "Requirement already satisfied: tinycss2 in c:\\users\\shabiha\\anaconda3\\envs\\geo\\lib\\site-packages (from nbconvert>=6.4.4->jupyter-server<3,>=2.4.0->notebook>=4.4.1->widgetsnbextension~=3.6.6->ipywidgets<9,>=7.6.0->ipyleaflet->netpanda) (1.2.1)\n",
      "Requirement already satisfied: fastjsonschema in c:\\users\\shabiha\\anaconda3\\envs\\geo\\lib\\site-packages (from nbformat>=5.3.0->jupyter-server<3,>=2.4.0->notebook>=4.4.1->widgetsnbextension~=3.6.6->ipywidgets<9,>=7.6.0->ipyleaflet->netpanda) (2.19.1)\n",
      "Requirement already satisfied: argon2-cffi-bindings in c:\\users\\shabiha\\anaconda3\\envs\\geo\\lib\\site-packages (from argon2-cffi->jupyter-server<3,>=2.4.0->notebook>=4.4.1->widgetsnbextension~=3.6.6->ipywidgets<9,>=7.6.0->ipyleaflet->netpanda) (21.2.0)\n",
      "Requirement already satisfied: debugpy>=1.6.5 in c:\\users\\shabiha\\anaconda3\\envs\\geo\\lib\\site-packages (from ipykernel->jupyterlab<5,>=4.0.2->notebook>=4.4.1->widgetsnbextension~=3.6.6->ipywidgets<9,>=7.6.0->ipyleaflet->netpanda) (1.8.0)\n",
      "Requirement already satisfied: nest-asyncio in c:\\users\\shabiha\\anaconda3\\envs\\geo\\lib\\site-packages (from ipykernel->jupyterlab<5,>=4.0.2->notebook>=4.4.1->widgetsnbextension~=3.6.6->ipywidgets<9,>=7.6.0->ipyleaflet->netpanda) (1.6.0)\n",
      "Requirement already satisfied: psutil in c:\\users\\shabiha\\anaconda3\\envs\\geo\\lib\\site-packages (from ipykernel->jupyterlab<5,>=4.0.2->notebook>=4.4.1->widgetsnbextension~=3.6.6->ipywidgets<9,>=7.6.0->ipyleaflet->netpanda) (5.9.8)\n",
      "Requirement already satisfied: webencodings in c:\\users\\shabiha\\anaconda3\\envs\\geo\\lib\\site-packages (from bleach!=5.0.0->nbconvert>=6.4.4->jupyter-server<3,>=2.4.0->notebook>=4.4.1->widgetsnbextension~=3.6.6->ipywidgets<9,>=7.6.0->ipyleaflet->netpanda) (0.5.1)\n",
      "Requirement already satisfied: fqdn in c:\\users\\shabiha\\anaconda3\\envs\\geo\\lib\\site-packages (from jsonschema[format-nongpl]>=4.18.0->jupyter-events>=0.9.0->jupyter-server<3,>=2.4.0->notebook>=4.4.1->widgetsnbextension~=3.6.6->ipywidgets<9,>=7.6.0->ipyleaflet->netpanda) (1.5.1)\n",
      "Requirement already satisfied: isoduration in c:\\users\\shabiha\\anaconda3\\envs\\geo\\lib\\site-packages (from jsonschema[format-nongpl]>=4.18.0->jupyter-events>=0.9.0->jupyter-server<3,>=2.4.0->notebook>=4.4.1->widgetsnbextension~=3.6.6->ipywidgets<9,>=7.6.0->ipyleaflet->netpanda) (20.11.0)\n",
      "Requirement already satisfied: jsonpointer>1.13 in c:\\users\\shabiha\\anaconda3\\envs\\geo\\lib\\site-packages (from jsonschema[format-nongpl]>=4.18.0->jupyter-events>=0.9.0->jupyter-server<3,>=2.4.0->notebook>=4.4.1->widgetsnbextension~=3.6.6->ipywidgets<9,>=7.6.0->ipyleaflet->netpanda) (2.4)\n",
      "Requirement already satisfied: uri-template in c:\\users\\shabiha\\anaconda3\\envs\\geo\\lib\\site-packages (from jsonschema[format-nongpl]>=4.18.0->jupyter-events>=0.9.0->jupyter-server<3,>=2.4.0->notebook>=4.4.1->widgetsnbextension~=3.6.6->ipywidgets<9,>=7.6.0->ipyleaflet->netpanda) (1.3.0)\n",
      "Requirement already satisfied: webcolors>=1.11 in c:\\users\\shabiha\\anaconda3\\envs\\geo\\lib\\site-packages (from jsonschema[format-nongpl]>=4.18.0->jupyter-events>=0.9.0->jupyter-server<3,>=2.4.0->notebook>=4.4.1->widgetsnbextension~=3.6.6->ipywidgets<9,>=7.6.0->ipyleaflet->netpanda) (1.13)\n",
      "Requirement already satisfied: cffi>=1.0.1 in c:\\users\\shabiha\\anaconda3\\envs\\geo\\lib\\site-packages (from argon2-cffi-bindings->argon2-cffi->jupyter-server<3,>=2.4.0->notebook>=4.4.1->widgetsnbextension~=3.6.6->ipywidgets<9,>=7.6.0->ipyleaflet->netpanda) (1.16.0)\n",
      "Requirement already satisfied: soupsieve>1.2 in c:\\users\\shabiha\\anaconda3\\envs\\geo\\lib\\site-packages (from beautifulsoup4->nbconvert>=6.4.4->jupyter-server<3,>=2.4.0->notebook>=4.4.1->widgetsnbextension~=3.6.6->ipywidgets<9,>=7.6.0->ipyleaflet->netpanda) (2.5)\n",
      "Requirement already satisfied: pycparser in c:\\users\\shabiha\\anaconda3\\envs\\geo\\lib\\site-packages (from cffi>=1.0.1->argon2-cffi-bindings->argon2-cffi->jupyter-server<3,>=2.4.0->notebook>=4.4.1->widgetsnbextension~=3.6.6->ipywidgets<9,>=7.6.0->ipyleaflet->netpanda) (2.21)\n",
      "Requirement already satisfied: arrow>=0.15.0 in c:\\users\\shabiha\\anaconda3\\envs\\geo\\lib\\site-packages (from isoduration->jsonschema[format-nongpl]>=4.18.0->jupyter-events>=0.9.0->jupyter-server<3,>=2.4.0->notebook>=4.4.1->widgetsnbextension~=3.6.6->ipywidgets<9,>=7.6.0->ipyleaflet->netpanda) (1.3.0)\n",
      "Requirement already satisfied: types-python-dateutil>=2.8.10 in c:\\users\\shabiha\\anaconda3\\envs\\geo\\lib\\site-packages (from arrow>=0.15.0->isoduration->jsonschema[format-nongpl]>=4.18.0->jupyter-events>=0.9.0->jupyter-server<3,>=2.4.0->notebook>=4.4.1->widgetsnbextension~=3.6.6->ipywidgets<9,>=7.6.0->ipyleaflet->netpanda) (2.8.19.20240106)\n",
      "Note: you may need to restart the kernel to use updated packages.\n"
     ]
    }
   ],
   "source": [
    "pip install netpanda"
   ]
  },
  {
   "cell_type": "code",
   "execution_count": 2,
   "metadata": {},
   "outputs": [],
   "source": [
    "from localtileserver import TileClient, get_leaflet_tile_layer\n",
    "from netpanda import AirplaneRouteMap"
   ]
  },
  {
   "cell_type": "code",
   "execution_count": 3,
   "metadata": {},
   "outputs": [
    {
     "data": {
      "application/vnd.jupyter.widget-view+json": {
       "model_id": "453fc238ff82487fab401f3b458930c0",
       "version_major": 2,
       "version_minor": 0
      },
      "text/plain": [
       "AirplaneRouteMap(center=[44.39836834327815, -122.75140966160018], controls=(ZoomControl(options=['position', '…"
      ]
     },
     "metadata": {},
     "output_type": "display_data"
    }
   ],
   "source": [
    "m = AirplaneRouteMap(add_layer_control=False)\n",
    "data = \"https://github.com/opengeos/datasets/releases/download/raster/dem.tif\"\n",
    "m.add_raster(data, cmap=\"terrain\", name=\"DEM\")\n",
    "m.layers\n",
    "m.scroll_wheel_zoom = True\n",
    "m"
   ]
  }
 ],
 "metadata": {
  "kernelspec": {
   "display_name": "geo",
   "language": "python",
   "name": "python3"
  },
  "language_info": {
   "codemirror_mode": {
    "name": "ipython",
    "version": 3
   },
   "file_extension": ".py",
   "mimetype": "text/x-python",
   "name": "python",
   "nbconvert_exporter": "python",
   "pygments_lexer": "ipython3",
   "version": "3.11.7"
  }
 },
 "nbformat": 4,
 "nbformat_minor": 2
}
