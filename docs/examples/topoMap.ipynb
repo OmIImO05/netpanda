{
 "cells": [
  {
   "cell_type": "code",
   "execution_count": 9,
   "metadata": {},
   "outputs": [
    {
     "name": "stdout",
     "output_type": "stream",
     "text": [
      "Requirement already satisfied: netpanda==0.0.2 in c:\\users\\shabiha\\anaconda3\\envs\\geo\\lib\\site-packages (0.0.2)\n",
      "Requirement already satisfied: numpy in c:\\users\\shabiha\\anaconda3\\envs\\geo\\lib\\site-packages (from netpanda==0.0.2) (1.23.4)\n",
      "Note: you may need to restart the kernel to use updated packages.\n"
     ]
    }
   ],
   "source": [
    "pip install netpanda==0.0.2"
   ]
  },
  {
   "cell_type": "code",
   "execution_count": 10,
   "metadata": {},
   "outputs": [],
   "source": [
    "import netpanda"
   ]
  },
  {
   "cell_type": "code",
   "execution_count": 11,
   "metadata": {},
   "outputs": [
    {
     "ename": "ImportError",
     "evalue": "cannot import name 'Map' from 'netpanda' (c:\\Users\\Shabiha\\anaconda3\\envs\\geo\\Lib\\site-packages\\netpanda\\__init__.py)",
     "output_type": "error",
     "traceback": [
      "\u001b[1;31m---------------------------------------------------------------------------\u001b[0m",
      "\u001b[1;31mImportError\u001b[0m                               Traceback (most recent call last)",
      "Cell \u001b[1;32mIn[11], line 1\u001b[0m\n\u001b[1;32m----> 1\u001b[0m \u001b[38;5;28;01mfrom\u001b[39;00m \u001b[38;5;21;01mnetpanda\u001b[39;00m \u001b[38;5;28;01mimport\u001b[39;00m Map\n",
      "\u001b[1;31mImportError\u001b[0m: cannot import name 'Map' from 'netpanda' (c:\\Users\\Shabiha\\anaconda3\\envs\\geo\\Lib\\site-packages\\netpanda\\__init__.py)"
     ]
    }
   ],
   "source": [
    "from netpanda import Map"
   ]
  },
  {
   "cell_type": "code",
   "execution_count": 12,
   "metadata": {},
   "outputs": [
    {
     "ename": "AttributeError",
     "evalue": "module 'netpanda' has no attribute 'Map'",
     "output_type": "error",
     "traceback": [
      "\u001b[1;31m---------------------------------------------------------------------------\u001b[0m",
      "\u001b[1;31mAttributeError\u001b[0m                            Traceback (most recent call last)",
      "Cell \u001b[1;32mIn[12], line 1\u001b[0m\n\u001b[1;32m----> 1\u001b[0m m \u001b[38;5;241m=\u001b[39m \u001b[43mnetpanda\u001b[49m\u001b[38;5;241;43m.\u001b[39;49m\u001b[43mMap\u001b[49m()\n\u001b[0;32m      2\u001b[0m m\n",
      "\u001b[1;31mAttributeError\u001b[0m: module 'netpanda' has no attribute 'Map'"
     ]
    }
   ],
   "source": [
    "m = netpanda.Map()\n",
    "m"
   ]
  }
 ],
 "metadata": {
  "kernelspec": {
   "display_name": "geo",
   "language": "python",
   "name": "geo"
  },
  "language_info": {
   "codemirror_mode": {
    "name": "ipython",
    "version": 3
   },
   "file_extension": ".py",
   "mimetype": "text/x-python",
   "name": "python",
   "nbconvert_exporter": "python",
   "pygments_lexer": "ipython3",
   "version": "3.11.7"
  }
 },
 "nbformat": 4,
 "nbformat_minor": 2
}
