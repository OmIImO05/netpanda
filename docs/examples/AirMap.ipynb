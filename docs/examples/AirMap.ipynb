{
 "cells": [
  {
   "cell_type": "markdown",
   "metadata": {},
   "source": [
    "[![image](https://colab.research.google.com/assets/colab-badge.svg)](https://colab.research.google.com/github/OmiimO05/netpanda/blob/main/docs/examples/AirMap.ipynb)"
   ]
  },
  {
   "cell_type": "code",
   "execution_count": null,
   "metadata": {},
   "outputs": [],
   "source": [
    "pip install netpanda"
   ]
  },
  {
   "cell_type": "code",
   "execution_count": 1,
   "metadata": {},
   "outputs": [],
   "source": [
    "import netpanda"
   ]
  },
  {
   "cell_type": "code",
   "execution_count": 2,
   "metadata": {},
   "outputs": [
    {
     "data": {
      "application/vnd.jupyter.widget-view+json": {
       "model_id": "b4cf043958da473a83f5d557fd401da2",
       "version_major": 2,
       "version_minor": 0
      },
      "text/plain": [
       "Map(center=[35.0, -84.0], controls=(ZoomControl(options=['position', 'zoom_in_text', 'zoom_in_title', 'zoom_ou…"
      ]
     },
     "metadata": {},
     "output_type": "display_data"
    }
   ],
   "source": [
    "m = netpanda.Map(center=[35.0, -84.0], zoom=5)\n",
    "m.add_route(start=[35.9633, -83.9267], end=[33.7490, -84.3880], color=\"red\", weight=3) \n",
    "m.add_marker([35.9633, -83.9267], \"Knoxville\")\n",
    "m.add_marker([33.7490, -84.3880], \"Atlanta\")\n",
    "m.draw_routes()\n",
    "m "
   ]
  }
 ],
 "metadata": {
  "kernelspec": {
   "display_name": "geo",
   "language": "python",
   "name": "python3"
  },
  "language_info": {
   "codemirror_mode": {
    "name": "ipython",
    "version": 3
   },
   "file_extension": ".py",
   "mimetype": "text/x-python",
   "name": "python",
   "nbconvert_exporter": "python",
   "pygments_lexer": "ipython3",
   "version": "3.11.7"
  }
 },
 "nbformat": 4,
 "nbformat_minor": 2
}
