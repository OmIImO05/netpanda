{
 "cells": [
  {
   "cell_type": "code",
   "execution_count": null,
   "metadata": {},
   "outputs": [],
   "source": [
    "pip install netpanda"
   ]
  },
  {
   "cell_type": "code",
   "execution_count": 1,
   "metadata": {},
   "outputs": [],
   "source": [
    "from netpanda import AirplaneRouteMap"
   ]
  },
  {
   "cell_type": "code",
   "execution_count": 2,
   "metadata": {},
   "outputs": [
    {
     "data": {
      "application/vnd.jupyter.widget-view+json": {
       "model_id": "c7616635a8f442c894981937cf1d2808",
       "version_major": 2,
       "version_minor": 0
      },
      "text/plain": [
       "AirplaneRouteMap(center=[20, 0], controls=(ZoomControl(options=['position', 'zoom_in_text', 'zoom_in_title', '…"
      ]
     },
     "metadata": {},
     "output_type": "display_data"
    }
   ],
   "source": [
    "m = AirplaneRouteMap()\n",
    "\n",
    "# Add NASAGIBS.ViirsEarthAtNight2012 basemap\n",
    "m.add_basemap_viirs_earth_at_night()\n",
    "\n",
    "# Add GeoJSON layer\n",
    "m.add_geojson(\"C:/Users/Shabiha/netpanda/docs/countries.geojson\")\n",
    "\n",
    "# Add shapefile\n",
    "m.add_shp(\"C:/Users/Shabiha/netpanda/docs/countries/countries.shp\")\n",
    "m\n"
   ]
  }
 ],
 "metadata": {
  "kernelspec": {
   "display_name": "geo",
   "language": "python",
   "name": "geo"
  },
  "language_info": {
   "codemirror_mode": {
    "name": "ipython",
    "version": 3
   },
   "file_extension": ".py",
   "mimetype": "text/x-python",
   "name": "python",
   "nbconvert_exporter": "python",
   "pygments_lexer": "ipython3",
   "version": "3.11.7"
  }
 },
 "nbformat": 4,
 "nbformat_minor": 2
}
